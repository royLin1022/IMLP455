{
 "cells": [
  {
   "cell_type": "markdown",
   "metadata": {},
   "source": [
    "# `Matplotlib` 資料視覺化"
   ]
  },
  {
   "cell_type": "markdown",
   "metadata": {},
   "source": [
    "`matplotlib` 幾乎是標準 Python 畫圖套件了! 在有 `matplotlib` 之前, Python 要畫圖不那麼方便, 和 Python 很多套件一樣, 有許多方案, 但各家有不同的優缺點, 也沒有一套是大家都在用的。\n",
    "\n",
    "而 `matplotlib` 仿 Matlab 式的畫圖方式, 讓很多人很快入手、並且功能相當完整。原作者是 John D. Hunter, 和很多 Python 的套件作者一樣, 他有博士學位。非常令人遺憾的是他在 2012 年因大腸直腸癌治療併發症過逝, 過逝時才 44 歲!\n"
   ]
  },
  {
   "cell_type": "code",
   "execution_count": 1,
   "metadata": {},
   "outputs": [],
   "source": [
    "%matplotlib inline\n",
    "import numpy as np\n",
    "import matplotlib.pyplot as plt\n",
    "import pandas as pd"
   ]
  },
  {
   "cell_type": "markdown",
   "metadata": {},
   "source": [
    "## 1 畫個函數\n",
    "\n",
    "前面說過 `plt.plot` 的基本用法是\n",
    "\n",
    "    plt.plot(X,Y)\n",
    "\n",
    "其中 X, Y 是分別是點 x 座標, y 座標形的的 list 或 array。"
   ]
  },
  {
   "cell_type": "markdown",
   "metadata": {},
   "source": [
    "### 【重點】標準函數畫法\n",
    "\n",
    "函數畫圖其實就是描點法, 而且再次用到陣列導向計算的概念。\n",
    "\n",
    "我們先牛刀小試, 畫個 $\\sin$ 的圖。\n",
    "\n",
    "$$f(x) = \\sin(x)$$"
   ]
  },
  {
   "cell_type": "markdown",
   "metadata": {},
   "source": [
    "先來設個 x 的範圍, 就 -10 到 10, 給 100 個點。"
   ]
  },
  {
   "cell_type": "code",
   "execution_count": 3,
   "metadata": {},
   "outputs": [],
   "source": [
    "x = np.linspace(-10,10,100)"
   ]
  },
  {
   "cell_type": "markdown",
   "metadata": {},
   "source": [
    "y 自然是 $\\sin(x)$。"
   ]
  },
  {
   "cell_type": "code",
   "execution_count": 4,
   "metadata": {},
   "outputs": [],
   "source": [
    "y = np.sin(x)"
   ]
  },
  {
   "cell_type": "markdown",
   "metadata": {},
   "source": [
    "畫圖!"
   ]
  },
  {
   "cell_type": "code",
   "execution_count": 6,
   "metadata": {},
   "outputs": [
    {
     "data": {
      "text/plain": [
       "[<matplotlib.lines.Line2D at 0x1e4614cd090>]"
      ]
     },
     "execution_count": 6,
     "metadata": {},
     "output_type": "execute_result"
    }
   ],
   "source": [
    "plt.plot(x,y)"
   ]
  },
  {
   "cell_type": "markdown",
   "metadata": {},
   "source": [
    "### 【練習】函數畫圖\n",
    "\n",
    "這次我們來畫:\n",
    "\n",
    "$$f(x) = \\frac{\\sin(5x)}{1+x^2}$$"
   ]
  },
  {
   "cell_type": "code",
   "execution_count": 14,
   "metadata": {},
   "outputs": [
    {
     "data": {
      "text/plain": [
       "[<matplotlib.lines.Line2D at 0x1e4614ccf50>]"
      ]
     },
     "execution_count": 14,
     "metadata": {},
     "output_type": "execute_result"
    }
   ],
   "source": [
    "x = np.linspace(0,10,200)\n",
    "y = np.sin(5*x)/(x*x+1)\n",
    "plt.plot(x,y)"
   ]
  },
  {
   "cell_type": "markdown",
   "metadata": {},
   "source": [
    "## 2 快速改變風格\n",
    "\n",
    "雖然 `matplotlib` 在很辛苦的調校之後也是可以畫美美的圖, 不過它比較是「讓我們快速看到結果」的套件。所以它有些快速基本修飾功能。"
   ]
  },
  {
   "cell_type": "markdown",
   "metadata": {},
   "source": [
    "### 【技巧】快速改變顏色\n",
    "\n",
    "![快取色彩](images/color.png)"
   ]
  },
  {
   "cell_type": "code",
   "execution_count": 16,
   "metadata": {},
   "outputs": [
    {
     "data": {
      "text/plain": [
       "[<matplotlib.lines.Line2D at 0x1e4614cd310>]"
      ]
     },
     "execution_count": 16,
     "metadata": {},
     "output_type": "execute_result"
    }
   ],
   "source": [
    "x = np.linspace(-10,10,200)\n",
    "y = np.sinc(x)\n",
    "\n",
    "plt.plot(x,y, 'r')"
   ]
  },
  {
   "cell_type": "markdown",
   "metadata": {},
   "source": [
    "### 【技巧】快速改變線條風格\n",
    "\n",
    "快速改變線條風格, 還可和顏色混用。\n",
    "\n",
    "| 參數 | 說明 |\n",
    "|---|---|\n",
    "| `--` | dash |\n",
    "| `-.` | 點 + dash |\n",
    "| `:` | 點點 |\n",
    "| `o` | 大點點 |\n",
    "| `^` | 三角 |\n",
    "| `s` | 方塊 |"
   ]
  },
  {
   "cell_type": "code",
   "execution_count": 34,
   "metadata": {},
   "outputs": [
    {
     "data": {
      "text/plain": [
       "[<matplotlib.lines.Line2D at 0x1e46606ac10>]"
      ]
     },
     "execution_count": 34,
     "metadata": {},
     "output_type": "execute_result"
    }
   ],
   "source": [
    "x = np.linspace(-10,10,200)\n",
    "y = np.cos(x)\n",
    "plt.plot(x,y, 'r-.')"
   ]
  },
  {
   "cell_type": "markdown",
   "metadata": {},
   "source": [
    "## 3 基本的修飾\n",
    "\n",
    "| 參數 | 說明 |\n",
    "|---|---|\n",
    "| `alpha` | 透明度 |\n",
    "| `color` (`c`)| 顏色 |\n",
    "| `linestyle` (`ls`) | 線條風格 |\n",
    "| `linewidth` (`lw`) | 線寬 |"
   ]
  },
  {
   "cell_type": "code",
   "execution_count": 21,
   "metadata": {},
   "outputs": [
    {
     "data": {
      "text/plain": [
       "[<matplotlib.lines.Line2D at 0x1e46606ad50>]"
      ]
     },
     "execution_count": 21,
     "metadata": {},
     "output_type": "execute_result"
    }
   ],
   "source": [
    "plt.plot(x,y, c='r', lw=3)"
   ]
  },
  {
   "cell_type": "markdown",
   "metadata": {},
   "source": [
    "## 4 如果畫個參數式圖形\n",
    "\n",
    "其實參數式圖形基本上也是一堆 x, y 的座標, 只是 x(t), y(t) 都是 t 的函數, 我們可以想成 t 是時間。\n",
    "\n",
    "假設我們的\n",
    "\n",
    "$$ -2\\pi \\leq t \\leq 2\\pi$$\n",
    "\n",
    "要畫個半徑是 r 的圓, x(t), y(t) 就是這樣:\n",
    "\n",
    "* $x(t) = r\\cos(t)$\n",
    "* $y(t) = r\\sin(t)$\n",
    "\n",
    "我們來試試事情是不是如我們想的這樣..."
   ]
  },
  {
   "cell_type": "code",
   "execution_count": 22,
   "metadata": {},
   "outputs": [],
   "source": [
    "r = 3\n",
    "t = np.linspace(-2*np.pi, 2*np.pi, 200)"
   ]
  },
  {
   "cell_type": "code",
   "execution_count": 32,
   "metadata": {},
   "outputs": [],
   "source": [
    "x = r*np.cos(t)\n",
    "y = r*np.sin(t)"
   ]
  },
  {
   "cell_type": "code",
   "execution_count": 24,
   "metadata": {},
   "outputs": [
    {
     "data": {
      "text/plain": [
       "[<matplotlib.lines.Line2D at 0x1e46606b110>]"
      ]
     },
     "execution_count": 24,
     "metadata": {},
     "output_type": "execute_result"
    }
   ],
   "source": [
    "plt.plot(x,y, lw=3)"
   ]
  },
  {
   "cell_type": "markdown",
   "metadata": {},
   "source": [
    "真的成功了... 等等, `matplotlib` 怎麼畫成橢圓呢? 我們來調整一下。"
   ]
  },
  {
   "cell_type": "code",
   "execution_count": 31,
   "metadata": {},
   "outputs": [
    {
     "data": {
      "text/plain": [
       "[<matplotlib.lines.Line2D at 0x1e4614cdbd0>]"
      ]
     },
     "execution_count": 31,
     "metadata": {},
     "output_type": "execute_result"
    }
   ],
   "source": [
    "ax = plt.gca()\n",
    "ax.set_aspect('equal')\n",
    "plt.plot(x,y, lw=3)"
   ]
  },
  {
   "cell_type": "markdown",
   "metadata": {},
   "source": [
    "再來我們可以想一下, 如果 r 不是故定的呢? 也就是它會變長變短, 是不是會畫出很多特別的圖呢? 其實很多特別的曲線不過就是找個試合的 r(t), 我們來隨意試試看。"
   ]
  },
  {
   "cell_type": "code",
   "execution_count": 33,
   "metadata": {},
   "outputs": [
    {
     "data": {
      "text/plain": [
       "[<matplotlib.lines.Line2D at 0x1e46606ae90>]"
      ]
     },
     "execution_count": 33,
     "metadata": {},
     "output_type": "execute_result"
    }
   ],
   "source": [
    "r = np.sin(5*t)\n",
    "x = r*np.cos(t)\n",
    "y = r*np.sin(t)\n",
    "\n",
    "ax = plt.gca()\n",
    "ax.set_aspect('equal')\n",
    "plt.plot(x,y, lw=3)"
   ]
  },
  {
   "cell_type": "markdown",
   "metadata": {},
   "source": [
    "是不是很有意思呢? 你也可以自己試試不同的變化。"
   ]
  },
  {
   "cell_type": "markdown",
   "metadata": {},
   "source": [
    "## 5 `subplot` 畫多個圖\n",
    "\n",
    "我們每次畫圖的時候, `matplotlib` 就弄 1 個 figure 畫圖區出來, 裡面可以有很多子圖, 在 figure 裡叫 axes。目前我們都只有 1 個 figure 內含 1 張圖, 所以都不用設, 現在我想畫 4 張圖時。我們就要先想好「陣式」。\n",
    "\n",
    "比如說 2x2 這樣排列的 4 張圖。"
   ]
  },
  {
   "cell_type": "code",
   "execution_count": 37,
   "metadata": {},
   "outputs": [
    {
     "data": {
      "text/plain": [
       "<BarContainer object of 10 artists>"
      ]
     },
     "execution_count": 37,
     "metadata": {},
     "output_type": "execute_result"
    }
   ],
   "source": [
    "x = np.linspace(0,10,100)\n",
    "plt.subplot(221)\n",
    "plt.plot(x, np.sin(x), c='#e63946',lw=3)\n",
    "\n",
    "plt.subplot(222)\n",
    "plt.plot(x, np.sin(3*x), c='#7fb069',lw=3)\n",
    "\n",
    "plt.subplot(223)\n",
    "plt.scatter(x, np.random.randn(100), c='#daa73e', s=50, alpha=0.5)\n",
    "\n",
    "plt.subplot(224)\n",
    "plt.bar(range(10), np.random.randint(1,30,10), fc='#e55934')"
   ]
  },
  {
   "cell_type": "markdown",
   "metadata": {},
   "source": [
    "## 6 進階色彩*\n",
    "\n",
    "#### 顏色表示法 1\n",
    "\n",
    "    c = 'r' \n",
    "\n",
    "可以用 blue (b), green (g), red (r), cyan (c), magenta (m), yellow (y), black (k), white (w)\n",
    "\n",
    "\n",
    "#### 顏色表示法 2\n",
    "\n",
    "用一個 0 到 1 的數字表灰階, 越大越白。\n",
    "\n",
    "    c = '0.6'\n",
    "    \n",
    "#### 顏色表示法 3\n",
    "\n",
    "網頁常用的標準 16 進位 RGB 表示法。\n",
    "\n",
    "    c = '#00a676'\n",
    "    \n",
    "我們怎知哪裡可選顏色呢? 可以用之前彥良介紹的 [Coolors.co](https://coolors.co) 等。\n",
    "    \n",
    "#### 顏色表示法 4\n",
    "\n",
    "用 0-1 的數字表 RGB 也可以。\n",
    "\n",
    "    c=(0.7, 0.4, 1)"
   ]
  },
  {
   "cell_type": "code",
   "execution_count": 38,
   "metadata": {
    "scrolled": true
   },
   "outputs": [
    {
     "data": {
      "text/plain": [
       "[<matplotlib.lines.Line2D at 0x1e4663eb250>]"
      ]
     },
     "execution_count": 38,
     "metadata": {},
     "output_type": "execute_result"
    }
   ],
   "source": [
    "x = np.linspace(-10,10,200)\n",
    "y = np.sinc(x)\n",
    "\n",
    "plt.plot(x,y, c='#00a676', lw=3)"
   ]
  },
  {
   "cell_type": "markdown",
   "metadata": {},
   "source": [
    "## 7 Marker*\n",
    "\n",
    "所謂 'marker' 就是原來的點, 我們特別標示出來, 為了不要讓圖形太複雜, 我們新換個點比較少的例子。"
   ]
  },
  {
   "cell_type": "code",
   "execution_count": 39,
   "metadata": {},
   "outputs": [],
   "source": [
    "x = range(20)\n",
    "y = np.random.randn(20)"
   ]
  },
  {
   "cell_type": "code",
   "execution_count": 41,
   "metadata": {},
   "outputs": [
    {
     "data": {
      "text/plain": [
       "[<matplotlib.lines.Line2D at 0x1e46606a0d0>]"
      ]
     },
     "execution_count": 41,
     "metadata": {},
     "output_type": "execute_result"
    }
   ],
   "source": [
    "plt.plot(x,y)"
   ]
  },
  {
   "cell_type": "code",
   "execution_count": 42,
   "metadata": {},
   "outputs": [
    {
     "data": {
      "text/plain": [
       "[<matplotlib.lines.Line2D at 0x1e46606aad0>]"
      ]
     },
     "execution_count": 42,
     "metadata": {},
     "output_type": "execute_result"
    }
   ],
   "source": [
    "plt.plot(x,y,marker='o')"
   ]
  },
  {
   "cell_type": "markdown",
   "metadata": {},
   "source": [
    "#### marker 可以設的參數\n",
    "\n",
    "| 參數 | 說明 |\n",
    "|---|---|\n",
    "| `marker` | marker 的風格 |\n",
    "| `markeredgecolor` (`mec`) | 邊線顏色 |\n",
    "| `markeredgewidth` (`mew`) | 邊線寬度 |\n",
    "| `markerfacecolor` (`mfc`) | marker 的顏色 |\n",
    "| `markerfacecoloralt` (`mfcalt`) | marker 替換色 |\n",
    "| `markersize` (`ms`) | marker 大小 |\n",
    "| `markevery` | 隔多少畫一個 marker |"
   ]
  },
  {
   "cell_type": "code",
   "execution_count": 43,
   "metadata": {},
   "outputs": [
    {
     "data": {
      "text/plain": [
       "[<matplotlib.lines.Line2D at 0x1e466418190>]"
      ]
     },
     "execution_count": 43,
     "metadata": {},
     "output_type": "execute_result"
    }
   ],
   "source": [
    "plt.plot(x,y,c='#6b8fb4',lw=5,marker='o',mfc='#fffa7c',mec='#084c61',mew=3,ms=20)"
   ]
  },
  {
   "cell_type": "markdown",
   "metadata": {},
   "source": [
    "比較奇特的參數是 `markevery`, 這是說我們每多少筆資料要畫一個 marker。為了示範, 我們拿之前的例子來看看。"
   ]
  },
  {
   "cell_type": "code",
   "execution_count": 44,
   "metadata": {},
   "outputs": [
    {
     "data": {
      "text/plain": [
       "[<matplotlib.lines.Line2D at 0x1e466418410>]"
      ]
     },
     "execution_count": 44,
     "metadata": {},
     "output_type": "execute_result"
    }
   ],
   "source": [
    "x = np.linspace(0,10,200)\n",
    "y=np.sin(5*x) / (1+x**2)\n",
    "plt.plot(x, y, lw=3, marker='o', ms=10)"
   ]
  },
  {
   "cell_type": "markdown",
   "metadata": {},
   "source": [
    "後面的完完全全連在一起了, 我們現在隔 10 個畫一個 marker 試試。"
   ]
  },
  {
   "cell_type": "code",
   "execution_count": 45,
   "metadata": {},
   "outputs": [
    {
     "data": {
      "text/plain": [
       "[<matplotlib.lines.Line2D at 0x1e4664182d0>]"
      ]
     },
     "execution_count": 45,
     "metadata": {},
     "output_type": "execute_result"
    }
   ],
   "source": [
    "plt.plot(x, y, lw=3, marker='o', ms=10, markevery=1-0)"
   ]
  },
  {
   "cell_type": "markdown",
   "metadata": {},
   "source": [
    "## 8 bar 風*"
   ]
  },
  {
   "cell_type": "code",
   "execution_count": 46,
   "metadata": {},
   "outputs": [
    {
     "data": {
      "text/plain": [
       "<BarContainer object of 5 artists>"
      ]
     },
     "execution_count": 46,
     "metadata": {},
     "output_type": "execute_result"
    }
   ],
   "source": [
    "plt.bar(range(1,6), np.random.randint(1,30,5))"
   ]
  },
  {
   "cell_type": "markdown",
   "metadata": {},
   "source": [
    "移一點點。"
   ]
  },
  {
   "cell_type": "code",
   "execution_count": 48,
   "metadata": {},
   "outputs": [
    {
     "data": {
      "text/plain": [
       "<BarContainer object of 5 artists>"
      ]
     },
     "execution_count": 48,
     "metadata": {},
     "output_type": "execute_result"
    }
   ],
   "source": [
    "plt.bar(np.arange(0.6,5), np.random.randint(1,30,5))"
   ]
  },
  {
   "cell_type": "markdown",
   "metadata": {},
   "source": [
    "#### 雙色的長條圖"
   ]
  },
  {
   "cell_type": "code",
   "execution_count": 49,
   "metadata": {},
   "outputs": [
    {
     "data": {
      "text/plain": [
       "<BarContainer object of 5 artists>"
      ]
     },
     "execution_count": 49,
     "metadata": {},
     "output_type": "execute_result"
    }
   ],
   "source": [
    "x = np.arange(1,6)\n",
    "plt.bar(x - 0.4, [3,10,8,12,6], width=0.4, ec='none', fc='#e63946')\n",
    "plt.bar(x, [6,3,12,5,8], width=0.4, ec='none', fc='#7fb069')"
   ]
  },
  {
   "cell_type": "markdown",
   "metadata": {},
   "source": [
    "#### 疊加型的資料"
   ]
  },
  {
   "cell_type": "code",
   "execution_count": 50,
   "metadata": {},
   "outputs": [
    {
     "data": {
      "text/plain": [
       "<BarContainer object of 5 artists>"
      ]
     },
     "execution_count": 50,
     "metadata": {},
     "output_type": "execute_result"
    }
   ],
   "source": [
    "A = np.random.randint(2,15,5)\n",
    "B = np.random.randint(2,15,5)\n",
    "C = np.random.randint(2,15,5)\n",
    "\n",
    "plt.bar(x,A,fc='#e63946',ec='none')\n",
    "plt.bar(x,B,fc='#7fb069',ec='none',bottom=A)\n",
    "plt.bar(x,C,fc='#e55934',ec='none',bottom=A+B)"
   ]
  },
  {
   "cell_type": "markdown",
   "metadata": {},
   "source": [
    "#### 橫放的長條圖"
   ]
  },
  {
   "cell_type": "code",
   "execution_count": 51,
   "metadata": {},
   "outputs": [
    {
     "data": {
      "text/plain": [
       "<BarContainer object of 5 artists>"
      ]
     },
     "execution_count": 51,
     "metadata": {},
     "output_type": "execute_result"
    }
   ],
   "source": [
    "A = np.random.randint(2,15,5)\n",
    "plt.barh(x,A,fc='#e63946',ec='none')"
   ]
  },
  {
   "cell_type": "markdown",
   "metadata": {},
   "source": [
    "#### 雙向的長條圖"
   ]
  },
  {
   "cell_type": "code",
   "execution_count": 52,
   "metadata": {},
   "outputs": [
    {
     "data": {
      "text/plain": [
       "<BarContainer object of 6 artists>"
      ]
     },
     "execution_count": 52,
     "metadata": {},
     "output_type": "execute_result"
    }
   ],
   "source": [
    "x = np.arange(0,6,6)\n",
    "A = np.random.randint(1,15,6)\n",
    "B = np.random.randint(1,15,6)\n",
    "\n",
    "plt.barh(x,A,fc='#e63946',ec='none')\n",
    "plt.barh(x,-B,fc='#7fb069',ec='none')"
   ]
  },
  {
   "cell_type": "markdown",
   "metadata": {},
   "source": [
    "## 9 畫圖區的設定*"
   ]
  },
  {
   "cell_type": "markdown",
   "metadata": {},
   "source": [
    "#### 說明文字的標示"
   ]
  },
  {
   "cell_type": "code",
   "execution_count": 53,
   "metadata": {},
   "outputs": [],
   "source": [
    "x = np.linspace(-2*np.pi, 2*np.pi, 200)\n",
    "y = np.sin(x)"
   ]
  },
  {
   "cell_type": "code",
   "execution_count": 54,
   "metadata": {},
   "outputs": [
    {
     "data": {
      "text/plain": [
       "[<matplotlib.lines.Line2D at 0x1e46648ca50>]"
      ]
     },
     "execution_count": 54,
     "metadata": {},
     "output_type": "execute_result"
    }
   ],
   "source": [
    "plt.title('My lovely sin function')\n",
    "plt.xlabel('x-axes')\n",
    "plt.ylabel('values')\n",
    "plt.plot(x,y,lw=3)"
   ]
  },
  {
   "cell_type": "markdown",
   "metadata": {},
   "source": [
    "#### 邊界的設定"
   ]
  },
  {
   "cell_type": "code",
   "execution_count": 55,
   "metadata": {},
   "outputs": [
    {
     "data": {
      "text/plain": [
       "[<matplotlib.lines.Line2D at 0x1e46648c910>]"
      ]
     },
     "execution_count": 55,
     "metadata": {},
     "output_type": "execute_result"
    }
   ],
   "source": [
    "plt.xlim(-6,6)\n",
    "plt.ylim(-1,1)\n",
    "plt.plot(x,y,lw=3)"
   ]
  },
  {
   "cell_type": "markdown",
   "metadata": {},
   "source": [
    "#### xticks"
   ]
  },
  {
   "cell_type": "code",
   "execution_count": 56,
   "metadata": {},
   "outputs": [
    {
     "data": {
      "text/plain": [
       "([<matplotlib.axis.XTick at 0x1e466383d90>,\n",
       "  <matplotlib.axis.XTick at 0x1e4663920d0>,\n",
       "  <matplotlib.axis.XTick at 0x1e4663934d0>,\n",
       "  <matplotlib.axis.XTick at 0x1e466393c50>,\n",
       "  <matplotlib.axis.XTick at 0x1e4663e8410>],\n",
       " [Text(0.0, 0, '$0$'),\n",
       "  Text(1.5707963267948966, 0, '&\\\\pi/2&'),\n",
       "  Text(3.141592653589793, 0, '$\\\\pi$'),\n",
       "  Text(4.71238898038469, 0, '$3*\\\\pi/2$'),\n",
       "  Text(6.283185307179586, 0, '$-2\\\\pi$')])"
      ]
     },
     "execution_count": 56,
     "metadata": {},
     "output_type": "execute_result"
    }
   ],
   "source": [
    "xv = np.linspace(0, 2*np.pi, 100)\n",
    "yv = np.sin(xv)\n",
    "plt.plot(xv,yv,lw=3)\n",
    "plt.xticks([0,np.pi/2,np.pi,3*np.pi/2,2*np.pi],['$0$','&\\pi/2&','$\\pi$','$3*\\pi/2$','$-2\\pi$'])"
   ]
  },
  {
   "cell_type": "markdown",
   "metadata": {},
   "source": [
    "# [練習]自己生成測試數據，X軸xticks對應到y軸數值\n",
    "\n",
    "例如: 1,2,3,4,5 對應X軸 '甲','乙'..."
   ]
  },
  {
   "cell_type": "markdown",
   "metadata": {},
   "source": [
    "#### 圖例 legend"
   ]
  },
  {
   "cell_type": "code",
   "execution_count": 57,
   "metadata": {},
   "outputs": [
    {
     "data": {
      "text/plain": [
       "<matplotlib.legend.Legend at 0x1e4661f1be0>"
      ]
     },
     "execution_count": 57,
     "metadata": {},
     "output_type": "execute_result"
    }
   ],
   "source": [
    "plt.xlim(-6,6)\n",
    "plt.ylim(-1.2,1.2)\n",
    "plt.plot(x, np.sin(y), lw=3, label='$\\sin$')\n",
    "plt.plot(x, np.cos(x), lw=3, label='$\\cos$')\n",
    "plt.legend()"
   ]
  },
  {
   "cell_type": "markdown",
   "metadata": {},
   "source": [
    "可用 `loc` 去設圖例的位置, 依 1, 2, 3, ... 表示。"
   ]
  },
  {
   "cell_type": "code",
   "execution_count": 58,
   "metadata": {
    "scrolled": true
   },
   "outputs": [
    {
     "data": {
      "text/plain": [
       "<matplotlib.legend.Legend at 0x1e46655d310>"
      ]
     },
     "execution_count": 58,
     "metadata": {},
     "output_type": "execute_result"
    }
   ],
   "source": [
    "plt.xlim(-6,6)\n",
    "plt.ylim(-1.2,1.2)\n",
    "plt.plot(x, np.sin(y), lw=3, label='$\\sin$')\n",
    "plt.plot(x, np.cos(x), lw=3, label='$\\cos$')\n",
    "plt.legend(loc=4)"
   ]
  },
  {
   "cell_type": "markdown",
   "metadata": {},
   "source": [
    "## 10 取得現在工作中 axes*\n",
    "\n",
    "我們有時要設 axes 的背景啦等等的資訊。這時就要取得現在工作中的 axes。這一般有兩種方式, 第一種是設 `subplot` 時可以取得:\n",
    "\n",
    "    fig, ax = plt.subplot()\n",
    "    \n",
    "另一種是用 `gca` 函數:\n",
    "\n",
    "    ax = plt.gca()"
   ]
  },
  {
   "cell_type": "code",
   "execution_count": 59,
   "metadata": {},
   "outputs": [
    {
     "data": {
      "text/plain": [
       "[<matplotlib.lines.Line2D at 0x1e46655f4d0>]"
      ]
     },
     "execution_count": 59,
     "metadata": {},
     "output_type": "execute_result"
    }
   ],
   "source": [
    "ax = plt.gca()\n",
    "ax.set_facecolor('#69b8bb')\n",
    "ax.set_xlim(-6,6)\n",
    "ax.set_ylim(-1.2,1.2)\n",
    "plt.plot(x,y,lw=5,c='white')"
   ]
  },
  {
   "cell_type": "markdown",
   "metadata": {},
   "source": [
    "#### 移動 x, y 座標軸"
   ]
  },
  {
   "cell_type": "code",
   "execution_count": 60,
   "metadata": {
    "scrolled": true
   },
   "outputs": [],
   "source": [
    "ax = plt.gca()\n",
    "ax.set_facecolor('#69b8bb')\n",
    "ax.set_xlim(-6,6)\n",
    "ax.set_ylim(-1.2,1.2)\n",
    "\n",
    "ax.spines['bottom'].set_position(('data',0))\n",
    "ax.spines['left'].set_position(('data',0))"
   ]
  },
  {
   "cell_type": "markdown",
   "metadata": {},
   "source": [
    "## 11 耍寶可愛的 `xkcd`*"
   ]
  },
  {
   "cell_type": "code",
   "execution_count": 61,
   "metadata": {},
   "outputs": [
    {
     "data": {
      "text/plain": [
       "<contextlib.ExitStack at 0x1e4661f2660>"
      ]
     },
     "execution_count": 61,
     "metadata": {},
     "output_type": "execute_result"
    }
   ],
   "source": [
    "plt.xkcd()"
   ]
  },
  {
   "cell_type": "code",
   "execution_count": 62,
   "metadata": {},
   "outputs": [
    {
     "data": {
      "text/plain": [
       "[<matplotlib.lines.Line2D at 0x1e46655f390>]"
      ]
     },
     "execution_count": 62,
     "metadata": {},
     "output_type": "execute_result"
    }
   ],
   "source": [
    "x = np.linspace(-5, 5, 200)\n",
    "y = np.sin(2*x) + 0.2*x\n",
    "plt.plot(x,y)"
   ]
  },
  {
   "cell_type": "markdown",
   "metadata": {},
   "source": [
    "## 12 `seaborn` 大救星\n",
    "\n",
    "雖然 `matplotlib` 幾乎什麼都可以調, 但有些簡單的調整卻要花費很多時間。於是有了許多可以協助 `matplotlib` 變美、變方便的套件出現。最近有個很有名的叫 `seaborn`, 儼然有另一個標準套件的態式。\n",
    "\n",
    "最重要的是 `seaborn` 和我們未來要介紹的 `pandas` 配合得非常好, 雖然熊貓和海生的聽來就沒什麼關係...\n",
    "\n",
    "我們先來個標準 (又來標準縮寫) 讀入 `seaborn` 的方法。"
   ]
  },
  {
   "cell_type": "code",
   "execution_count": 64,
   "metadata": {},
   "outputs": [],
   "source": [
    "import seaborn as sns"
   ]
  },
  {
   "cell_type": "markdown",
   "metadata": {},
   "source": [
    "然後像平常畫個圖。"
   ]
  },
  {
   "cell_type": "code",
   "execution_count": 65,
   "metadata": {},
   "outputs": [],
   "source": [
    "sns.set(color_codes=True)"
   ]
  },
  {
   "cell_type": "code",
   "execution_count": 66,
   "metadata": {},
   "outputs": [
    {
     "data": {
      "text/plain": [
       "[<matplotlib.lines.Line2D at 0x1e4686d0b90>]"
      ]
     },
     "execution_count": 66,
     "metadata": {},
     "output_type": "execute_result"
    }
   ],
   "source": [
    "x = np.linspace(-10,10,200)\n",
    "y = np.sinc(x)\n",
    "\n",
    "plt.plot(x,y)"
   ]
  },
  {
   "cell_type": "markdown",
   "metadata": {},
   "source": [
    "傑克, 這真是太神奇了!\n",
    "\n",
    "總之, 你根本就直接用原來 `matplotlib` 的指令, 馬上 `seaborn` 就會幫你美化。當然我們還是可以做更多的控制, 詳情請參考\n",
    "\n",
    "[seaborn 的網站](https://seaborn.github.io/)"
   ]
  },
  {
   "cell_type": "code",
   "execution_count": 67,
   "metadata": {},
   "outputs": [],
   "source": [
    "plt.rcdefaults()"
   ]
  },
  {
   "cell_type": "code",
   "execution_count": null,
   "metadata": {},
   "outputs": [],
   "source": []
  }
 ],
 "metadata": {
  "anaconda-cloud": {},
  "kernelspec": {
   "display_name": "Python [conda env:base] *",
   "language": "python",
   "name": "conda-base-py"
  },
  "language_info": {
   "codemirror_mode": {
    "name": "ipython",
    "version": 3
   },
   "file_extension": ".py",
   "mimetype": "text/x-python",
   "name": "python",
   "nbconvert_exporter": "python",
   "pygments_lexer": "ipython3",
   "version": "3.13.5"
  }
 },
 "nbformat": 4,
 "nbformat_minor": 4
}
